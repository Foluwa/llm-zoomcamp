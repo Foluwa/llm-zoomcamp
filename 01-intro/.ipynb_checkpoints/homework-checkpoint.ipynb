{
 "cells": [
  {
   "cell_type": "code",
   "execution_count": 1,
   "id": "bcfc486c-beaf-40b9-982f-eb4e1360b454",
   "metadata": {},
   "outputs": [],
   "source": [
    "import openai"
   ]
  },
  {
   "cell_type": "code",
   "execution_count": 14,
   "id": "d6566dfe-9265-4e4f-9a23-ea2731f32993",
   "metadata": {},
   "outputs": [],
   "source": [
    "from openai import OpenAI"
   ]
  },
  {
   "cell_type": "code",
   "execution_count": 19,
   "id": "41201744-a0b8-4199-b0de-235fb893d12d",
   "metadata": {},
   "outputs": [],
   "source": [
    "client = OpenAI()"
   ]
  },
  {
   "cell_type": "code",
   "execution_count": 16,
   "id": "44f78f29-9822-4c73-a96d-a1961c98e394",
   "metadata": {},
   "outputs": [],
   "source": [
    "import os"
   ]
  },
  {
   "cell_type": "code",
   "execution_count": 1,
   "id": "d6dc7e8d-8079-4bd2-ad44-e6bad0643a40",
   "metadata": {},
   "outputs": [],
   "source": [
    "# os.environ"
   ]
  },
  {
   "cell_type": "code",
   "execution_count": 20,
   "id": "c6a8d8be-6a9b-4ded-b954-61b1caaa5385",
   "metadata": {},
   "outputs": [],
   "source": [
    "response = client.chat.completions.create(\n",
    "    model='gpt-4o',\n",
    "    messages=[{\"role\":\"user\", \"content\":\"is it too late to join the course?\"}]\n",
    ")"
   ]
  },
  {
   "cell_type": "code",
   "execution_count": 21,
   "id": "5f7a6026-9243-4697-8a1d-c2d65003787b",
   "metadata": {},
   "outputs": [
    {
     "data": {
      "text/plain": [
       "ChatCompletion(id='chatcmpl-9g6rROalrR1GStL8yxjxXmC329Y6F', choices=[Choice(finish_reason='stop', index=0, logprobs=None, message=ChatCompletionMessage(content=\"Whether or not it's too late to join a course depends on several factors, such as the enrollment policies of the institution offering the course, the course start date, and the current date.\\n\\nHere are some steps you can take to find out:\\n\\n1. **Check Enrollment Deadlines:** Find out if the course has specific enrollment deadlines. These are often listed on the institution's website or in the course catalog.\\n\\n2. **Contact the Institution:** Reach out to the admissions office or the department offering the course. They can provide information on whether late enrollment is possible and any steps you need to take.\\n\\n3. **Instructor Permission:** In some cases, courses allow late enrollment with the instructor's permission. Contact the instructor directly to explain your situation and see if they will allow you to join the course late.\\n\\n4. **Look for Alternatives:** If it's too late to join the desired course, ask if there are any alternative sections or similar courses available for enrollment.\\n\\n5. **Waitlist Option:** Some courses offer a waitlist option for students who miss the initial enrollment period. Add your name to the waitlist if this is available.\\n\\n6. **Online Courses:** Consider online courses or MOOCs (Massive Open Online Courses) as they often have more flexible start dates.\\n\\nIt's generally best to act quickly if you are interested in joining a course that's already started.\", role='assistant', function_call=None, tool_calls=None))], created=1719823177, model='gpt-4o-2024-05-13', object='chat.completion', service_tier=None, system_fingerprint='fp_4008e3b719', usage=CompletionUsage(completion_tokens=271, prompt_tokens=16, total_tokens=287))"
      ]
     },
     "execution_count": 21,
     "metadata": {},
     "output_type": "execute_result"
    }
   ],
   "source": [
    "response"
   ]
  },
  {
   "cell_type": "code",
   "execution_count": 22,
   "id": "507881ef-b7d2-4d90-b7a8-1336ed779f77",
   "metadata": {},
   "outputs": [
    {
     "data": {
      "text/plain": [
       "\"Whether or not it's too late to join a course depends on several factors, such as the enrollment policies of the institution offering the course, the course start date, and the current date.\\n\\nHere are some steps you can take to find out:\\n\\n1. **Check Enrollment Deadlines:** Find out if the course has specific enrollment deadlines. These are often listed on the institution's website or in the course catalog.\\n\\n2. **Contact the Institution:** Reach out to the admissions office or the department offering the course. They can provide information on whether late enrollment is possible and any steps you need to take.\\n\\n3. **Instructor Permission:** In some cases, courses allow late enrollment with the instructor's permission. Contact the instructor directly to explain your situation and see if they will allow you to join the course late.\\n\\n4. **Look for Alternatives:** If it's too late to join the desired course, ask if there are any alternative sections or similar courses available for enrollment.\\n\\n5. **Waitlist Option:** Some courses offer a waitlist option for students who miss the initial enrollment period. Add your name to the waitlist if this is available.\\n\\n6. **Online Courses:** Consider online courses or MOOCs (Massive Open Online Courses) as they often have more flexible start dates.\\n\\nIt's generally best to act quickly if you are interested in joining a course that's already started.\""
      ]
     },
     "execution_count": 22,
     "metadata": {},
     "output_type": "execute_result"
    }
   ],
   "source": [
    "response.choices[0].message.content"
   ]
  },
  {
   "cell_type": "code",
   "execution_count": null,
   "id": "96c7b0d3-3e1a-4700-8d8a-b0d8614ff35f",
   "metadata": {},
   "outputs": [],
   "source": []
  }
 ],
 "metadata": {
  "kernelspec": {
   "display_name": "Python 3 (ipykernel)",
   "language": "python",
   "name": "python3"
  },
  "language_info": {
   "codemirror_mode": {
    "name": "ipython",
    "version": 3
   },
   "file_extension": ".py",
   "mimetype": "text/x-python",
   "name": "python",
   "nbconvert_exporter": "python",
   "pygments_lexer": "ipython3",
   "version": "3.10.13"
  }
 },
 "nbformat": 4,
 "nbformat_minor": 5
}
